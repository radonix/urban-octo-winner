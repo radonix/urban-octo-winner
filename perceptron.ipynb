{
  "nbformat": 4,
  "nbformat_minor": 0,
  "metadata": {
    "colab": {
      "provenance": [],
      "authorship_tag": "ABX9TyPRn/RIztdjCTqxrcVBK2HT",
      "include_colab_link": true
    },
    "kernelspec": {
      "name": "python3",
      "display_name": "Python 3"
    },
    "language_info": {
      "name": "python"
    }
  },
  "cells": [
    {
      "cell_type": "markdown",
      "metadata": {
        "id": "view-in-github",
        "colab_type": "text"
      },
      "source": [
        "<a href=\"https://colab.research.google.com/github/radonix/urban-octo-winner/blob/master/perceptron.ipynb\" target=\"_parent\"><img src=\"https://colab.research.google.com/assets/colab-badge.svg\" alt=\"Open In Colab\"/></a>"
      ]
    },
    {
      "cell_type": "code",
      "execution_count": 1,
      "metadata": {
        "id": "KoOaqHwwS_Oi"
      },
      "outputs": [],
      "source": [
        "import numpy as np"
      ]
    },
    {
      "cell_type": "code",
      "source": [
        "def func_unid_deg(x):\n",
        "  return np.where( x > 0, 1, 0)\n",
        "\n",
        "\n",
        "class perceptron:\n",
        "    def __init__(self,taxa_de_aprendizado=0.01,iter=1000):\n",
        "       self.tda = taxa_de_aprendizado\n",
        "       self.iter = iter\n",
        "       self.func_ativ = func_unid_deg\n",
        "    def fit(self,x,y):\n",
        "       n_samples,n_features = x.shape\n",
        "       self.pesos = np.zeros(n_features)\n",
        "       self.vies = 0 \n",
        "       y = np.where(y > 0, 1, 0)\n",
        "       for _ in range(self.iter):\n",
        "         for idx,x_i in enumerate(x):\n",
        "             linear_output = np.dot(x_i,self.pesos) + self.vies\n",
        "             y_predito = self.func_ativ(linear_output)\n",
        "             atualizar = self.tda*(y[idx]-y_predito)\n",
        "             self.pesos += atualizar*x_i\n",
        "             self.vies += atualizar\n",
        "    def predizer(self,x):\n",
        "      linear_output=np.dot(x,self.pesos)+self.vies\n",
        "      y_predito = self.func_ativ(linear_output)\n",
        "      return y_predito"
      ],
      "metadata": {
        "id": "4gPL-U6ETGH6"
      },
      "execution_count": 5,
      "outputs": []
    },
    {
      "cell_type": "code",
      "source": [
        "if __name__ == \"__main__\":\n",
        "  import matplotlib.pyplot as plt\n",
        "  from sklearn.model_selection import train_test_split\n",
        "  from sklearn import datasets\n",
        "def precisao(y_true,y_pred):\n",
        "  precisao = np.sum(y_true == y_pred)/len(y_true)\n",
        "  return precisao\n",
        "x,y = datasets.make_blobs(\n",
        "    n_samples = 150, n_features = 2,centers = 2,cluster_std=1.05,random_state=2\n",
        ")\n",
        "x_train,x_test,y_train,y_test = train_test_split(\n",
        "    x,y,test_size = 0.2,random_state=123\n",
        ")\n",
        "p = perceptron(taxa_de_aprendizado=0.01,iter = 1000)\n",
        "p.fit(x_train,y_train)\n",
        "predicoes = p.predizer(x_test)"
      ],
      "metadata": {
        "id": "zppp1U41YBgk"
      },
      "execution_count": 6,
      "outputs": []
    },
    {
      "cell_type": "code",
      "source": [
        "print(\"Precisão da classificacao do perceptron\",precisao(y_test,predicoes))\n",
        "fig = plt.figure()\n",
        "ax = fig.add_subplot(1,1,1)\n",
        "plt.scatter(x_train[:,0],x_train[:,1],marker=\"o\",c=y_train)\n",
        "\n",
        "x0_1 = np.amin(x_train[:,0])\n",
        "x0_2 = np.amax(x_train[:,0])\n",
        "\n",
        "x1_1 = (-p.pesos[0]*x0_1-p.vies/p.pesos[1])\n",
        "x1_2 = (-p.pesos[0]*x0_2-p.vies/p.pesos[1])\n",
        "\n",
        "ax.plot([x0_1,x0_2],[x1_1,x1_2],\"k\")\n",
        "\n",
        "ymin = np.amin(x_train[:,1])\n",
        "ymax = np.amax(x_train[:,1])\n",
        "ax.set_ylim([ymin-3,ymax+3])\n",
        "\n",
        "plt.show()"
      ],
      "metadata": {
        "colab": {
          "base_uri": "https://localhost:8080/",
          "height": 282
        },
        "id": "GvVyyt6Uba41",
        "outputId": "0628b5cd-b052-4b4b-c8c1-a960e0d41dad"
      },
      "execution_count": 8,
      "outputs": [
        {
          "output_type": "stream",
          "name": "stdout",
          "text": [
            "Precisão da classificacao do perceptron 1.0\n"
          ]
        },
        {
          "output_type": "display_data",
          "data": {
            "text/plain": [
              "<Figure size 432x288 with 1 Axes>"
            ],
            "image/png": "[encoded data removed]"
          },
          "metadata": {
            "needs_background": "light"
          }
        }
      ]
    }
  ]
}