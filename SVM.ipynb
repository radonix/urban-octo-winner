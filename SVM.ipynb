{
  "nbformat": 4,
  "nbformat_minor": 0,
  "metadata": {
    "colab": {
      "provenance": [],
      "authorship_tag": "ABX9TyMyWHIYAshhK9wIUenVoPvD",
      "include_colab_link": true
    },
    "kernelspec": {
      "name": "python3",
      "display_name": "Python 3"
    },
    "language_info": {
      "name": "python"
    }
  },
  "cells": [
    {
      "cell_type": "markdown",
      "metadata": {
        "id": "view-in-github",
        "colab_type": "text"
      },
      "source": [
        "<a href=\"https://colab.research.google.com/github/radonix/urban-octo-winner/blob/master/SVM.ipynb\" target=\"_parent\"><img src=\"https://colab.research.google.com/assets/colab-badge.svg\" alt=\"Open In Colab\"/></a>"
      ]
    },
    {
      "cell_type": "code",
      "execution_count": 15,
      "metadata": {
        "id": "WFUpp8yBkGIi"
      },
      "outputs": [],
      "source": [
        "import numpy as np\n",
        "\n",
        "class SVM:\n",
        "\n",
        "  def __init__(self,taxa_de_aprendizado=0.001,par_lambda=0.01,iter=1000):\n",
        "    self.tda = taxa_de_aprendizado\n",
        "    self.par_lambda = par_lambda \n",
        "    self.iter = iter\n",
        "    self.p = None\n",
        "    self.v = None\n",
        "  def fit (self,x,y):\n",
        "    n_samples,n_features = x.shape\n",
        "    y_ = np.where(y<=0,-1,1)\n",
        "    self.p = np.zeros(n_features)\n",
        "    self.v = 0\n",
        "    for _ in range(self.iter):\n",
        "      for idx,x_i in enumerate(x):\n",
        "        condition = y_[idx]*(np.dot(x_i,self.p-self.v))>=1\n",
        "        if condition:\n",
        "          self.p -= self.tda*(2*self.par_lambda*self.p)\n",
        "        else:\n",
        "            self.p -= self.tda*(2*self.par_lambda*self.p-np.dot(x_i,y_[idx]))\n",
        "            self.v -= self.tda*y_[idx]\n",
        "  def predict(self,x):\n",
        "    aprox = np.dot(x,self.p) -self.v\n",
        "    return np.sign(aprox)"
      ]
    },
    {
      "cell_type": "code",
      "source": [
        "if __name__ == \"__main__\":\n",
        "  from sklearn.model_selection import train_test_split\n",
        "  from sklearn import datasets\n",
        "  import matplotlib.pyplot as plt\n",
        "\n",
        "  x,y = datasets.make_blobs(n_samples=50,n_features=2,cluster_std=1.05,random_state=40)\n",
        "  y = np.where(y == 0,-1,1)\n",
        "\n",
        "  x_train,x_test,y_train,y_test = train_test_split(x,y,test_size=0.2,random_state=123)\n",
        "\n",
        "  clf = SVM()\n",
        "  clf.fit(x_train,y_train)\n",
        "  predictions = clf.predict(x_test)\n",
        "\n",
        "def accuracy(y_true, y_pred):\n",
        "        accuracy = np.sum(y_true == y_pred) / len(y_true)\n",
        "        return accuracy\n",
        "print(\"SVM classification accuracy\", accuracy(y_test, predictions))\n",
        "\n",
        "def visualize_svm():\n",
        "      def get_hyperplane_value(x, p, v, offset):\n",
        "            return (-p[0] * x + v + offset) / p[1]\n",
        "\n",
        "      fig = plt.figure()\n",
        "      ax = fig.add_subplot(1, 1, 1)\n",
        "      plt.scatter(x[:, 0], x[:, 1], marker=\"o\", c=y)\n",
        "\n",
        "      x0_1 = np.amin(x[:, 0])\n",
        "      x0_2 = np.amax(x[:, 0])\n",
        "\n",
        "      x1_1 = get_hyperplane_value(x0_1, clf.p, clf.v, 0)\n",
        "      x1_2 = get_hyperplane_value(x0_2, clf.p, clf.v, 0)\n",
        "\n",
        "      x1_1_m = get_hyperplane_value(x0_1, clf.p, clf.v, -1)\n",
        "      x1_2_m = get_hyperplane_value(x0_2, clf.p, clf.v, -1)\n",
        "\n",
        "      x1_1_p = get_hyperplane_value(x0_1, clf.p, clf.v, 1)\n",
        "      x1_2_p = get_hyperplane_value(x0_2, clf.p, clf.v, 1)\n",
        "\n",
        "      ax.plot([x0_1, x0_2], [x1_1, x1_2], \"y--\")\n",
        "      ax.plot([x0_1, x0_2], [x1_1_m, x1_2_m], \"k\")\n",
        "      ax.plot([x0_1, x0_2], [x1_1_p, x1_2_p], \"k\")\n",
        "\n",
        "      x1_min = np.amin(x[:, 1])\n",
        "      x1_max = np.amax(x[:, 1])\n",
        "      ax.set_ylim([x1_min - 3, x1_max + 3])\n",
        "\n",
        "      plt.show()\n",
        "\n",
        "      visualize_svm()"
      ],
      "metadata": {
        "colab": {
          "base_uri": "https://localhost:8080/"
        },
        "id": "rOfM4MIkpTfc",
        "outputId": "5801f6b1-227a-4298-a107-214c6b04c44a"
      },
      "execution_count": 17,
      "outputs": [
        {
          "output_type": "stream",
          "name": "stdout",
          "text": [
            "SVM classification accuracy 0.4\n"
          ]
        }
      ]
    }
  ]
}