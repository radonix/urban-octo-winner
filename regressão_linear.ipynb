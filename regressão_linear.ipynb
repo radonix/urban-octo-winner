{
  "nbformat": 4,
  "nbformat_minor": 0,
  "metadata": {
    "colab": {
      "provenance": [],
      "authorship_tag": "ABX9TyOz1AVY79q7TzhHZEej/gLl",
      "include_colab_link": true
    },
    "kernelspec": {
      "name": "python3",
      "display_name": "Python 3"
    },
    "language_info": {
      "name": "python"
    }
  },
  "cells": [
    {
      "cell_type": "markdown",
      "metadata": {
        "id": "view-in-github",
        "colab_type": "text"
      },
      "source": [
        "<a href=\"https://colab.research.google.com/github/radonix/urban-octo-winner/blob/master/regress%C3%A3o_linear.ipynb\" target=\"_parent\"><img src=\"https://colab.research.google.com/assets/colab-badge.svg\" alt=\"Open In Colab\"/></a>"
      ]
    },
    {
      "cell_type": "code",
      "execution_count": 3,
      "metadata": {
        "id": "9STEUmsWgLFn"
      },
      "outputs": [],
      "source": [
        "import pandas as pd\n",
        "import numpy as np\n",
        "import sklearn\n",
        "from sklearn import linear_model\n",
        "from sklearn.utils import shuffle"
      ]
    },
    {
      "cell_type": "code",
      "source": [
        "from google.colab import drive\n",
        "drive.mount('/content/drive')"
      ],
      "metadata": {
        "colab": {
          "base_uri": "https://localhost:8080/"
        },
        "id": "pg1dbDNahMwQ",
        "outputId": "0d16a2e6-70a0-4c62-e934-8da3f3ed4c23"
      },
      "execution_count": 10,
      "outputs": [
        {
          "output_type": "stream",
          "name": "stdout",
          "text": [
            "Drive already mounted at /content/drive; to attempt to forcibly remount, call drive.mount(\"/content/drive\", force_remount=True).\n"
          ]
        }
      ]
    },
    {
      "cell_type": "code",
      "source": [
        "data = pd.read_csv('/content/drive/MyDrive/data/student-mat.csv',sep=\";\")"
      ],
      "metadata": {
        "id": "PX4RTqSOnfJx"
      },
      "execution_count": 14,
      "outputs": []
    },
    {
      "cell_type": "code",
      "source": [
        "data = data[[\"G1\",\"G2\",\"G3\",\"studytime\",\"failures\",\"absences\"]]\n",
        "print(data.head())"
      ],
      "metadata": {
        "colab": {
          "base_uri": "https://localhost:8080/"
        },
        "id": "JKRfZRU7pN4v",
        "outputId": "4948e821-0593-4c0e-9473-652aa0861d31"
      },
      "execution_count": 15,
      "outputs": [
        {
          "output_type": "stream",
          "name": "stdout",
          "text": [
            "   G1  G2  G3  studytime  failures  absences\n",
            "0   5   6   6          2         0         6\n",
            "1   5   5   6          2         0         4\n",
            "2   7   8  10          2         3        10\n",
            "3  15  14  15          3         0         2\n",
            "4   6  10  10          2         0         4\n"
          ]
        }
      ]
    },
    {
      "cell_type": "code",
      "source": [
        "predict = \"G3\"\n",
        "\n",
        "x = np.array(data.drop([predict],1))\n",
        "y = np.array(data[predict])\n",
        "\n",
        "x_train,x_test,y_train,y_test = sklearn.model_selection.train_test_split(x,y,test_size=0.1)\n",
        "\n",
        "linear = linear_model.LinearRegression()\n",
        "linear.fit(x_train,y_train)\n",
        "\n",
        "acc = linear.score(x_test,y_test)\n",
        "\n",
        "print(acc)\n",
        "print(\"Co: \\n\" , linear.coef_)\n",
        "print('intercept: \\n', linear.intercept_)\n",
        "\n",
        "predictions = linear.predict(x_test)\n",
        "\n",
        "for x in range(len(predictions)):\n",
        "  print(predictions[x],x_test[x],y_test[x])"
      ],
      "metadata": {
        "colab": {
          "base_uri": "https://localhost:8080/"
        },
        "id": "kXDVP7W6qEiy",
        "outputId": "2ea11318-8755-4c7c-ef9d-5236f98f3ea3"
      },
      "execution_count": 31,
      "outputs": [
        {
          "output_type": "stream",
          "name": "stdout",
          "text": [
            "0.8767886213052841\n",
            "Co: \n",
            " [ 0.16417151  0.95970338 -0.21946127 -0.29833961  0.03409007]\n",
            "intercept: \n",
            " -1.3272661634306555\n",
            "12.680013364739883 [12 13  2  0  0] 14\n",
            "10.12891352810866 [11 10  1  0  8] 10\n",
            "8.532026029020093 [10  9  3  0  7] 9\n",
            "5.482132832001381 [ 7  6  2  0 10] 6\n",
            "14.99594328244594 [14 15  2  0  2] 15\n",
            "13.968059764956804 [14 14  2  0  0] 14\n",
            "13.78896739466065 [13 14  3  0  6] 14\n",
            "13.899546915694204 [11 14  1  0  6] 14\n",
            "3.499223669503092 [3 5 2 1 8] 5\n",
            "4.764014206537777 [7 6 1 2 0] 0\n",
            "7.636083416050663 [ 9  8  2  1 16] 7\n",
            "18.40826956690374 [19 18  3  0  0] 19\n",
            "5.360693419748138 [7 6 1 0 0] 0\n",
            "15.582085986849572 [16 15  3  0 16] 15\n",
            "7.800881022557407 [7 9 3 0 0] 8\n",
            "6.401467313194702 [8 7 2 0 4] 6\n",
            "11.922032120297585 [14 11  1  0 18] 13\n",
            "13.829669007270663 [15 14  4  0  4] 14\n",
            "8.574425413579444 [8 9 1 0 5] 9\n",
            "7.469719730505455 [ 7  8  2  0 12] 8\n",
            "9.08610914992436 [11  9  2  0 12] 9\n",
            "5.017429539850991 [5 6 2 0 6] 6\n",
            "3.9895460223618535 [5 5 2 0 4] 6\n",
            "3.663727891892483 [7 5 3 1 0] 0\n",
            "6.469647449668904 [8 7 2 0 6] 9\n",
            "3.887240801110286 [ 6  5  1  3 16] 5\n",
            "5.531143760933643 [7 6 1 0 5] 7\n",
            "12.863354081882814 [13 13  3  0  7] 14\n",
            "6.506520774215711 [ 7  8  2  3 10] 10\n",
            "19.284871950749313 [19 19  4  0  4] 20\n",
            "9.395738036908238 [ 9 10  3  0  9] 9\n",
            "11.229987630866187 [10 12  2  1  4] 12\n",
            "13.88495876778744 [14 14  3  0  4] 14\n",
            "12.833648365534145 [15 13  3  2 14] 13\n",
            "15.324286301647925 [16 15  2  0  2] 15\n",
            "12.28145972432596 [11 13  4  0  6] 14\n",
            "11.993363242410155 [15 12  3  0  0] 14\n",
            "12.785744128185732 [13 12  1  0 20] 12\n",
            "13.859178015872589 [12 14  1  0  0] 15\n",
            "7.04289977811511 [ 9  7  2  0 18] 6\n"
          ]
        },
        {
          "output_type": "stream",
          "name": "stderr",
          "text": [
            "<ipython-input-31-22b06296f117>:3: FutureWarning: In a future version of pandas all arguments of DataFrame.drop except for the argument 'labels' will be keyword-only\n",
            "  x = np.array(data.drop([predict],1))\n"
          ]
        }
      ]
    }
  ]
}